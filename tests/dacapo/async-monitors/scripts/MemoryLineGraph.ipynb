{
 "cells": [
  {
   "cell_type": "code",
   "execution_count": 1,
   "metadata": {},
   "outputs": [],
   "source": [
    "import json\n",
    "import pandas as pd\n",
    "import matplotlib.pyplot as plt\n",
    "import os"
   ]
  },
  {
   "cell_type": "code",
   "execution_count": 2,
   "metadata": {},
   "outputs": [],
   "source": [
    "def MB(bytes):\n",
    "    return bytes / 1024 / 1024"
   ]
  },
  {
   "cell_type": "code",
   "execution_count": 3,
   "metadata": {},
   "outputs": [],
   "source": [
    "path = \"/home/aservet1/jRAPL/tests/dacapo/async-monitors/results/jolteon-results\"\n",
    "files = []\n",
    "os.chdir(path)\n",
    "for file in os.listdir():\n",
    "    if file.endswith(\".memory.json\"):\n",
    "        files.append(file)"
   ]
  },
  {
   "cell_type": "code",
   "execution_count": 4,
   "metadata": {},
   "outputs": [],
   "source": [
    "iterations = {}\n",
    "benches = set()\n",
    "dses = set()\n",
    "for file in files:\n",
    "    parts = file.split('_')\n",
    "    benches.add(bench := parts[0])\n",
    "    iteration = parts[1]\n",
    "    dses.add(ds := parts[2])\n",
    "    if iteration not in iterations:\n",
    "        iterations[iteration] = {}\n",
    "    iteration = iterations[iteration]\n",
    "    if bench not in iteration:\n",
    "        iteration[bench] = {}\n",
    "    bench = iteration[bench]\n",
    "    if ds not in bench:\n",
    "        bench[ds] = {}\n",
    "    ds = bench[ds]\n",
    "    with open(file) as fh:\n",
    "        data = json.load(fh)\n",
    "        for key in data.keys():\n",
    "            ds[key] = data[key]"
   ]
  },
  {
   "cell_type": "code",
   "execution_count": 11,
   "metadata": {},
   "outputs": [],
   "source": [
    "for benchmark in benches:\n",
    "    os.mkdir(benchmark)"
   ]
  },
  {
   "cell_type": "code",
   "execution_count": 12,
   "metadata": {},
   "outputs": [],
   "source": [
    "for iteration in iterations:\n",
    "    for bench in benches:\n",
    "        data = iterations[iteration][bench]\n",
    "        xs = []\n",
    "        dses_ = []\n",
    "        ys = []\n",
    "        fname = f\"{bench}/{iteration}_Mem_Comparison\"\n",
    "        print(fname)\n",
    "        for ds in data:\n",
    "            data_ = data[ds]\n",
    "            dses_.append(ds)\n",
    "            ys.append([MB(sam) for sam in data_[\"samples\"]]) # megabytes\n",
    "            num_sam = data_[\"num_samples\"]\n",
    "            frequency = data_[\"sampling_rate\"]\n",
    "            xs.append(stamps := range(0, num_sam))\n",
    "            # xs.append(data_[\"timestamps\"])\n",
    "        for i in range(len(xs)):\n",
    "            x = xs[i]\n",
    "            y = ys[i]\n",
    "            ds = dses_[i]\n",
    "            plt.plot(x, y, label=ds)\n",
    "        plt.legend()\n",
    "        plt.title(fname)\n",
    "        plt.xlabel(\"timestamps (ms)\")\n",
    "        plt.ylabel(\"memory consumed\")\n",
    "        plt.savefig(fname, dpi=400)\n",
    "        plt.cla()\n",
    "        plt.clf()\n",
    "\n",
    "            \n",
    "        "
   ]
  }
 ],
 "metadata": {
  "kernelspec": {
   "display_name": "Python 3",
   "language": "python",
   "name": "python3"
  },
  "language_info": {
   "codemirror_mode": {
    "name": "ipython",
    "version": 3
   },
   "file_extension": ".py",
   "mimetype": "text/x-python",
   "name": "python",
   "nbconvert_exporter": "python",
   "pygments_lexer": "ipython3",
   "version": "3.8.5-final"
  }
 },
 "nbformat": 4,
 "nbformat_minor": 4
}
