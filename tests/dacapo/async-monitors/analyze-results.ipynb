{
 "cells": [
  {
   "cell_type": "code",
   "execution_count": 1,
   "metadata": {},
   "outputs": [],
   "source": [
    "import os\n",
    "import json\n",
    "import statistics\n",
    "import pandas as pd\n",
    "from collections import Counter"
   ]
  },
  {
   "cell_type": "code",
   "execution_count": 2,
   "metadata": {},
   "outputs": [],
   "source": [
    "def filter_zero_columns(dataframe): #delete columnds that are 0.0 down the entire line\n",
    "    for column in dataframe:\n",
    "        if sum(dataframe[column]) == 0.0:\n",
    "            del dataframe[column]\n",
    "\n",
    "def zero_intervals(l):\n",
    "    result = list()\n",
    "    z = 0\n",
    "    for i in range(1,len(l)):\n",
    "        if l[i]-l[i-1] == 0:\n",
    "            z += 1\n",
    "        else:\n",
    "            result.append(z)\n",
    "            z = 0\n",
    "    if z:\n",
    "        result.append(z)\n",
    "    return dict(Counter(result))\n",
    "\n",
    "def diff_list(l):\n",
    "    return [ float(float(l[i]) - float(l[i-1])) for i in range(1,len(l))]\n",
    "\n",
    "def avg_nonzero_energy_increase(energy):\n",
    "    return statistics.mean([ n for n in diff_list(energy) if n != 0])\n",
    "def stdev_nonzero_energy_increase(energy):\n",
    "    return statistics.stdev([ n for n in diff_list(energy) if n != 0 ])"
   ]
  },
  {
   "cell_type": "code",
   "execution_count": 3,
   "metadata": {},
   "outputs": [],
   "source": [
    "results_dir = 'jolteon-results-subset'\n",
    "os.chdir(results_dir)"
   ]
  },
  {
   "cell_type": "code",
   "execution_count": 4,
   "metadata": {},
   "outputs": [
    {
     "data": {
      "text/plain": [
       "['luindex_8_java',\n",
       " 'eclipse_6_c-linklist',\n",
       " 'batik_3_java',\n",
       " 'avrora_7_c-dynamicarray',\n",
       " 'h2o_4_java',\n",
       " 'graphchi_4_c-linklist',\n",
       " 'sunflow_6_c-linklist']"
      ]
     },
     "execution_count": 4,
     "metadata": {},
     "output_type": "execute_result"
    }
   ],
   "source": [
    "datafiles = os.listdir()\n",
    "datafilenames = list(set([ x.split('.')[0] for x in datafiles]))\n",
    "datafilenames"
   ]
  },
  {
   "cell_type": "code",
   "execution_count": 5,
   "metadata": {},
   "outputs": [
    {
     "data": {
      "text/html": [
       "<div>\n",
       "<style scoped>\n",
       "    .dataframe tbody tr th:only-of-type {\n",
       "        vertical-align: middle;\n",
       "    }\n",
       "\n",
       "    .dataframe tbody tr th {\n",
       "        vertical-align: top;\n",
       "    }\n",
       "\n",
       "    .dataframe thead th {\n",
       "        text-align: right;\n",
       "    }\n",
       "</style>\n",
       "<table border=\"1\" class=\"dataframe\">\n",
       "  <thead>\n",
       "    <tr style=\"text-align: right;\">\n",
       "      <th></th>\n",
       "      <th>socket</th>\n",
       "      <th>dram</th>\n",
       "      <th>core</th>\n",
       "      <th>pkg</th>\n",
       "      <th>timestamp</th>\n",
       "    </tr>\n",
       "  </thead>\n",
       "  <tbody>\n",
       "    <tr>\n",
       "      <th>0</th>\n",
       "      <td>1</td>\n",
       "      <td>20228.5568</td>\n",
       "      <td>0.0</td>\n",
       "      <td>137037.5273</td>\n",
       "      <td>1615064809698108</td>\n",
       "    </tr>\n",
       "    <tr>\n",
       "      <th>1</th>\n",
       "      <td>2</td>\n",
       "      <td>15712.8222</td>\n",
       "      <td>0.0</td>\n",
       "      <td>188919.5948</td>\n",
       "      <td>1615064809698108</td>\n",
       "    </tr>\n",
       "    <tr>\n",
       "      <th>2</th>\n",
       "      <td>1</td>\n",
       "      <td>20228.5568</td>\n",
       "      <td>0.0</td>\n",
       "      <td>137037.5273</td>\n",
       "      <td>1615064809698146</td>\n",
       "    </tr>\n",
       "    <tr>\n",
       "      <th>3</th>\n",
       "      <td>2</td>\n",
       "      <td>15712.8222</td>\n",
       "      <td>0.0</td>\n",
       "      <td>188919.5948</td>\n",
       "      <td>1615064809698146</td>\n",
       "    </tr>\n",
       "    <tr>\n",
       "      <th>4</th>\n",
       "      <td>1</td>\n",
       "      <td>20228.5568</td>\n",
       "      <td>0.0</td>\n",
       "      <td>137037.5273</td>\n",
       "      <td>1615064809698181</td>\n",
       "    </tr>\n",
       "    <tr>\n",
       "      <th>...</th>\n",
       "      <td>...</td>\n",
       "      <td>...</td>\n",
       "      <td>...</td>\n",
       "      <td>...</td>\n",
       "      <td>...</td>\n",
       "    </tr>\n",
       "    <tr>\n",
       "      <th>129595</th>\n",
       "      <td>2</td>\n",
       "      <td>15718.4911</td>\n",
       "      <td>0.0</td>\n",
       "      <td>188956.9125</td>\n",
       "      <td>1615064811095735</td>\n",
       "    </tr>\n",
       "    <tr>\n",
       "      <th>129596</th>\n",
       "      <td>1</td>\n",
       "      <td>20228.6205</td>\n",
       "      <td>0.0</td>\n",
       "      <td>137059.1218</td>\n",
       "      <td>1615064811095756</td>\n",
       "    </tr>\n",
       "    <tr>\n",
       "      <th>129597</th>\n",
       "      <td>2</td>\n",
       "      <td>15718.4911</td>\n",
       "      <td>0.0</td>\n",
       "      <td>188956.9125</td>\n",
       "      <td>1615064811095756</td>\n",
       "    </tr>\n",
       "    <tr>\n",
       "      <th>129598</th>\n",
       "      <td>1</td>\n",
       "      <td>20228.6205</td>\n",
       "      <td>0.0</td>\n",
       "      <td>137059.1218</td>\n",
       "      <td>1615064811095776</td>\n",
       "    </tr>\n",
       "    <tr>\n",
       "      <th>129599</th>\n",
       "      <td>2</td>\n",
       "      <td>15718.4911</td>\n",
       "      <td>0.0</td>\n",
       "      <td>188956.9125</td>\n",
       "      <td>1615064811095776</td>\n",
       "    </tr>\n",
       "  </tbody>\n",
       "</table>\n",
       "<p>129600 rows × 5 columns</p>\n",
       "</div>"
      ],
      "text/plain": [
       "        socket        dram  core          pkg         timestamp\n",
       "0            1  20228.5568   0.0  137037.5273  1615064809698108\n",
       "1            2  15712.8222   0.0  188919.5948  1615064809698108\n",
       "2            1  20228.5568   0.0  137037.5273  1615064809698146\n",
       "3            2  15712.8222   0.0  188919.5948  1615064809698146\n",
       "4            1  20228.5568   0.0  137037.5273  1615064809698181\n",
       "...        ...         ...   ...          ...               ...\n",
       "129595       2  15718.4911   0.0  188956.9125  1615064811095735\n",
       "129596       1  20228.6205   0.0  137059.1218  1615064811095756\n",
       "129597       2  15718.4911   0.0  188956.9125  1615064811095756\n",
       "129598       1  20228.6205   0.0  137059.1218  1615064811095776\n",
       "129599       2  15718.4911   0.0  188956.9125  1615064811095776\n",
       "\n",
       "[129600 rows x 5 columns]"
      ]
     },
     "execution_count": 5,
     "metadata": {},
     "output_type": "execute_result"
    }
   ],
   "source": [
    "parts = datafilenames[0].split('_')\n",
    "benchmark = parts[0]\n",
    "iter = parts[1]\n",
    "type = parts[2]\n",
    "\n",
    "filename_base = datafilenames[0]\n",
    "with open(f'{filename_base}.metadata.json') as fh: metadata = json.loads(fh.read())\n",
    "data = pd.read_csv(f'{filename_base}.csv')\n",
    "filter_zero_columns(data)\n",
    "\n",
    "data"
   ]
  },
  {
   "cell_type": "code",
   "execution_count": 9,
   "metadata": {},
   "outputs": [
    {
     "ename": "TypeError",
     "evalue": "unhashable type: 'slice'",
     "output_type": "error",
     "traceback": [
      "\u001b[0;31m---------------------------------------------------------------------------\u001b[0m",
      "\u001b[0;31mTypeError\u001b[0m                                 Traceback (most recent call last)",
      "\u001b[0;32m<ipython-input-9-8b76921b3d37>\u001b[0m in \u001b[0;36m<module>\u001b[0;34m\u001b[0m\n\u001b[1;32m     10\u001b[0m     \u001b[0mresult\u001b[0m\u001b[0;34m[\u001b[0m\u001b[0msocket\u001b[0m\u001b[0;34m]\u001b[0m \u001b[0;34m=\u001b[0m \u001b[0mcurrent\u001b[0m\u001b[0;34m\u001b[0m\u001b[0;34m\u001b[0m\u001b[0m\n\u001b[1;32m     11\u001b[0m     \u001b[0mtimestamps\u001b[0m \u001b[0;34m=\u001b[0m \u001b[0mresult\u001b[0m\u001b[0;34m[\u001b[0m\u001b[0msocket\u001b[0m\u001b[0;34m]\u001b[0m\u001b[0;34m[\u001b[0m\u001b[0;34m'timestamp'\u001b[0m\u001b[0;34m]\u001b[0m\u001b[0;34m\u001b[0m\u001b[0;34m\u001b[0m\u001b[0m\n\u001b[0;32m---> 12\u001b[0;31m     \u001b[0mprint\u001b[0m\u001b[0;34m(\u001b[0m\u001b[0mtimestamps\u001b[0m\u001b[0;34m[\u001b[0m\u001b[0;34m:\u001b[0m\u001b[0;36m10\u001b[0m\u001b[0;34m]\u001b[0m\u001b[0;34m)\u001b[0m\u001b[0;34m\u001b[0m\u001b[0;34m\u001b[0m\u001b[0m\n\u001b[0m\u001b[1;32m     13\u001b[0m \u001b[0;34m\u001b[0m\u001b[0m\n\u001b[1;32m     14\u001b[0m \u001b[0;32mfor\u001b[0m \u001b[0msocket\u001b[0m \u001b[0;32min\u001b[0m \u001b[0mresult\u001b[0m\u001b[0;34m:\u001b[0m \u001b[0;31m# filling out the actual computations in result{}\u001b[0m\u001b[0;34m\u001b[0m\u001b[0;34m\u001b[0m\u001b[0m\n",
      "\u001b[0;31mTypeError\u001b[0m: unhashable type: 'slice'"
     ]
    }
   ],
   "source": [
    "\n",
    "result = {}\n",
    "result['metadata'] = metadata\n",
    "\n",
    "num_sockets = max(data['socket'])\n",
    "for i in range(num_sockets): # filling out the socket level of result{}\n",
    "    socket = i+1\n",
    "    current = data[data.socket.eq(socket)].to_dict()\n",
    "    del current['socket']\n",
    "    result[socket] = current\n",
    "    timestamps = result[socket]['timestamp']\n",
    "    print(timestamps[:10])\n",
    "    \n",
    "for socket in result: # filling out the actual computations in result{}\n",
    "    timestamps = result[socket]['timestamp']\n",
    "    del result[socket]['timestamp']\n",
    "    power_domains = list(result[socket])\n",
    "    for powd in power_domains:\n",
    "        energy = result[socket][powd]\n",
    "        energy = [ energy[i] for i in energy ] #convert from dict<int,double> to list<double>\n",
    "        result[socket][powd] = dict()\n",
    "        result[socket][powd]['zero-intervals'] = zero_intervals(energy)\n",
    "        result[socket][powd]['nonzero-energy-increase'] = dict()\n",
    "        result[socket][powd]['nonzero-energy-increase']['avg'] = avg_nonzero_energy_increase(energy)\n",
    "        result[socket][powd]['nonzero-energy-increase']['stdev'] = stdev_nonzero_energy_increase(energy)\n",
    "\n",
    "result"
   ]
  },
  {
   "cell_type": "code",
   "execution_count": null,
   "metadata": {},
   "outputs": [],
   "source": [
    "with open(f'{filename_base}.stats.json','w') as fh: fh.write(json.dumps(result))"
   ]
  }
 ],
 "metadata": {
  "kernelspec": {
   "display_name": "Python 3",
   "language": "python",
   "name": "python3"
  },
  "language_info": {
   "codemirror_mode": {
    "name": "ipython",
    "version": 3
   },
   "file_extension": ".py",
   "mimetype": "text/x-python",
   "name": "python",
   "nbconvert_exporter": "python",
   "pygments_lexer": "ipython3",
   "version": "3.8.5"
  }
 },
 "nbformat": 4,
 "nbformat_minor": 4
}
