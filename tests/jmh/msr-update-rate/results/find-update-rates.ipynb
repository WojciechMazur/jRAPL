{
 "cells": [
  {
   "cell_type": "code",
   "execution_count": 1,
   "metadata": {},
   "outputs": [],
   "source": [
    "import pandas as pd\n",
    "import statistics"
   ]
  },
  {
   "cell_type": "code",
   "execution_count": 9,
   "metadata": {},
   "outputs": [
    {
     "data": {
      "text/html": [
       "<div>\n",
       "<style scoped>\n",
       "    .dataframe tbody tr th:only-of-type {\n",
       "        vertical-align: middle;\n",
       "    }\n",
       "\n",
       "    .dataframe tbody tr th {\n",
       "        vertical-align: top;\n",
       "    }\n",
       "\n",
       "    .dataframe thead th {\n",
       "        text-align: right;\n",
       "    }\n",
       "</style>\n",
       "<table border=\"1\" class=\"dataframe\">\n",
       "  <thead>\n",
       "    <tr style=\"text-align: right;\">\n",
       "      <th></th>\n",
       "      <th>dram</th>\n",
       "      <th>core</th>\n",
       "      <th>pkg</th>\n",
       "      <th>dram.1</th>\n",
       "      <th>core.1</th>\n",
       "      <th>pkg.1</th>\n",
       "      <th>timestamp</th>\n",
       "    </tr>\n",
       "  </thead>\n",
       "  <tbody>\n",
       "    <tr>\n",
       "      <th>0</th>\n",
       "      <td>3766.3483</td>\n",
       "      <td>0.0</td>\n",
       "      <td>116639.7908</td>\n",
       "      <td>24933.4645</td>\n",
       "      <td>0.0</td>\n",
       "      <td>138380.4521</td>\n",
       "      <td>1614126910211940</td>\n",
       "    </tr>\n",
       "    <tr>\n",
       "      <th>1</th>\n",
       "      <td>3766.3483</td>\n",
       "      <td>0.0</td>\n",
       "      <td>116639.7908</td>\n",
       "      <td>24933.4645</td>\n",
       "      <td>0.0</td>\n",
       "      <td>138380.4521</td>\n",
       "      <td>1614126910211971</td>\n",
       "    </tr>\n",
       "    <tr>\n",
       "      <th>2</th>\n",
       "      <td>3766.3483</td>\n",
       "      <td>0.0</td>\n",
       "      <td>116639.7908</td>\n",
       "      <td>24933.4645</td>\n",
       "      <td>0.0</td>\n",
       "      <td>138380.4521</td>\n",
       "      <td>1614126910211998</td>\n",
       "    </tr>\n",
       "    <tr>\n",
       "      <th>3</th>\n",
       "      <td>3766.3483</td>\n",
       "      <td>0.0</td>\n",
       "      <td>116639.7908</td>\n",
       "      <td>24933.4645</td>\n",
       "      <td>0.0</td>\n",
       "      <td>138380.4521</td>\n",
       "      <td>1614126910212023</td>\n",
       "    </tr>\n",
       "    <tr>\n",
       "      <th>4</th>\n",
       "      <td>3766.3483</td>\n",
       "      <td>0.0</td>\n",
       "      <td>116639.7908</td>\n",
       "      <td>24933.4645</td>\n",
       "      <td>0.0</td>\n",
       "      <td>138380.4521</td>\n",
       "      <td>1614126910212049</td>\n",
       "    </tr>\n",
       "    <tr>\n",
       "      <th>...</th>\n",
       "      <td>...</td>\n",
       "      <td>...</td>\n",
       "      <td>...</td>\n",
       "      <td>...</td>\n",
       "      <td>...</td>\n",
       "      <td>...</td>\n",
       "      <td>...</td>\n",
       "    </tr>\n",
       "    <tr>\n",
       "      <th>2372378</th>\n",
       "      <td>3879.5822</td>\n",
       "      <td>0.0</td>\n",
       "      <td>117718.1492</td>\n",
       "      <td>25130.9673</td>\n",
       "      <td>0.0</td>\n",
       "      <td>139841.3978</td>\n",
       "      <td>1614126970462119</td>\n",
       "    </tr>\n",
       "    <tr>\n",
       "      <th>2372379</th>\n",
       "      <td>3879.5822</td>\n",
       "      <td>0.0</td>\n",
       "      <td>117718.1492</td>\n",
       "      <td>25130.9673</td>\n",
       "      <td>0.0</td>\n",
       "      <td>139841.3978</td>\n",
       "      <td>1614126970462140</td>\n",
       "    </tr>\n",
       "    <tr>\n",
       "      <th>2372380</th>\n",
       "      <td>3879.5822</td>\n",
       "      <td>0.0</td>\n",
       "      <td>117718.1492</td>\n",
       "      <td>25130.9673</td>\n",
       "      <td>0.0</td>\n",
       "      <td>139841.3978</td>\n",
       "      <td>1614126970462162</td>\n",
       "    </tr>\n",
       "    <tr>\n",
       "      <th>2372381</th>\n",
       "      <td>3879.5822</td>\n",
       "      <td>0.0</td>\n",
       "      <td>117718.1492</td>\n",
       "      <td>25130.9673</td>\n",
       "      <td>0.0</td>\n",
       "      <td>139841.3978</td>\n",
       "      <td>1614126970462183</td>\n",
       "    </tr>\n",
       "    <tr>\n",
       "      <th>2372382</th>\n",
       "      <td>3879.5822</td>\n",
       "      <td>0.0</td>\n",
       "      <td>117718.1492</td>\n",
       "      <td>25130.9683</td>\n",
       "      <td>0.0</td>\n",
       "      <td>139841.4229</td>\n",
       "      <td>1614126970462204</td>\n",
       "    </tr>\n",
       "  </tbody>\n",
       "</table>\n",
       "<p>2372383 rows × 7 columns</p>\n",
       "</div>"
      ],
      "text/plain": [
       "              dram  core          pkg      dram.1  core.1        pkg.1  \\\n",
       "0        3766.3483   0.0  116639.7908  24933.4645     0.0  138380.4521   \n",
       "1        3766.3483   0.0  116639.7908  24933.4645     0.0  138380.4521   \n",
       "2        3766.3483   0.0  116639.7908  24933.4645     0.0  138380.4521   \n",
       "3        3766.3483   0.0  116639.7908  24933.4645     0.0  138380.4521   \n",
       "4        3766.3483   0.0  116639.7908  24933.4645     0.0  138380.4521   \n",
       "...            ...   ...          ...         ...     ...          ...   \n",
       "2372378  3879.5822   0.0  117718.1492  25130.9673     0.0  139841.3978   \n",
       "2372379  3879.5822   0.0  117718.1492  25130.9673     0.0  139841.3978   \n",
       "2372380  3879.5822   0.0  117718.1492  25130.9673     0.0  139841.3978   \n",
       "2372381  3879.5822   0.0  117718.1492  25130.9673     0.0  139841.3978   \n",
       "2372382  3879.5822   0.0  117718.1492  25130.9683     0.0  139841.4229   \n",
       "\n",
       "                timestamp  \n",
       "0        1614126910211940  \n",
       "1        1614126910211971  \n",
       "2        1614126910211998  \n",
       "3        1614126910212023  \n",
       "4        1614126910212049  \n",
       "...                   ...  \n",
       "2372378  1614126970462119  \n",
       "2372379  1614126970462140  \n",
       "2372380  1614126970462162  \n",
       "2372381  1614126970462183  \n",
       "2372382  1614126970462204  \n",
       "\n",
       "[2372383 rows x 7 columns]"
      ]
     },
     "execution_count": 9,
     "metadata": {},
     "output_type": "execute_result"
    }
   ],
   "source": [
    "df = pd.read_csv('jolteon-samples.csv')\n",
    "df"
   ]
  },
  {
   "cell_type": "code",
   "execution_count": 10,
   "metadata": {},
   "outputs": [
    {
     "data": {
      "text/plain": [
       "['dram', 'core', 'pkg', 'dram.1', 'core.1', 'pkg.1']"
      ]
     },
     "execution_count": 10,
     "metadata": {},
     "output_type": "execute_result"
    }
   ],
   "source": [
    "header = list(df.head())\n",
    "del header[-1] # remove timestamp\n",
    "header"
   ]
  },
  {
   "cell_type": "code",
   "execution_count": 11,
   "metadata": {},
   "outputs": [],
   "source": [
    "timestamps = df['timestamp']\n",
    "# list(timestamps)"
   ]
  },
  {
   "cell_type": "code",
   "execution_count": 24,
   "metadata": {},
   "outputs": [],
   "source": [
    "def diff_list(l): # durations as opposed to cumulative raw timestamps\n",
    "    dl = list()\n",
    "    prev = l[0]\n",
    "    for item in l[1:]:\n",
    "        dl.append(item-prev)\n",
    "        prev = item\n",
    "    return dl\n",
    "    \n",
    "#for item in header:\n",
    "#    print(df[item])\n",
    "\n",
    "drams = df['dram']\n",
    "lastDifferent = drams[0]\n",
    "ts_diffs = [ timestamps[0] ] # timestamps where there was an energy update\n",
    "for i in range(len(drams)):\n",
    "    if drams[i] != lastDifferent:\n",
    "        ts_diffs.append(timestamps[i])\n",
    "        lastDifferent = drams[i]\n",
    "\n",
    "ts_diffs = diff_list(ts_diffs) # get durations instead of raw timestamps\n",
    "results_df = pd.DataFrame(ts_diffs,columns=['update rate'])\n"
   ]
  },
  {
   "cell_type": "code",
   "execution_count": 27,
   "metadata": {},
   "outputs": [
    {
     "data": {
      "text/plain": [
       "<AxesSubplot:>"
      ]
     },
     "execution_count": 27,
     "metadata": {},
     "output_type": "execute_result"
    },
    {
     "data": {
      "image/png": "[encoded data removed]",
      "text/plain": [
       "<Figure size 432x288 with 1 Axes>"
      ]
     },
     "metadata": {
      "needs_background": "light"
     },
     "output_type": "display_data"
    }
   ],
   "source": [
    "# results_df.describe()\n",
    "results_df.plot()\n",
    "\n",
    "# sorted(ts_diffs)"
   ]
  },
  {
   "cell_type": "code",
   "execution_count": 28,
   "metadata": {},
   "outputs": [
    {
     "data": {
      "text/html": [
       "<div>\n",
       "<style scoped>\n",
       "    .dataframe tbody tr th:only-of-type {\n",
       "        vertical-align: middle;\n",
       "    }\n",
       "\n",
       "    .dataframe tbody tr th {\n",
       "        vertical-align: top;\n",
       "    }\n",
       "\n",
       "    .dataframe thead th {\n",
       "        text-align: right;\n",
       "    }\n",
       "</style>\n",
       "<table border=\"1\" class=\"dataframe\">\n",
       "  <thead>\n",
       "    <tr style=\"text-align: right;\">\n",
       "      <th></th>\n",
       "      <th>update rate no outliers</th>\n",
       "    </tr>\n",
       "  </thead>\n",
       "  <tbody>\n",
       "    <tr>\n",
       "      <th>count</th>\n",
       "      <td>28315.000000</td>\n",
       "    </tr>\n",
       "    <tr>\n",
       "      <th>mean</th>\n",
       "      <td>1100.835811</td>\n",
       "    </tr>\n",
       "    <tr>\n",
       "      <th>std</th>\n",
       "      <td>2530.099903</td>\n",
       "    </tr>\n",
       "    <tr>\n",
       "      <th>min</th>\n",
       "      <td>74.000000</td>\n",
       "    </tr>\n",
       "    <tr>\n",
       "      <th>25%</th>\n",
       "      <td>974.000000</td>\n",
       "    </tr>\n",
       "    <tr>\n",
       "      <th>50%</th>\n",
       "      <td>1000.000000</td>\n",
       "    </tr>\n",
       "    <tr>\n",
       "      <th>75%</th>\n",
       "      <td>1035.000000</td>\n",
       "    </tr>\n",
       "    <tr>\n",
       "      <th>max</th>\n",
       "      <td>112392.000000</td>\n",
       "    </tr>\n",
       "  </tbody>\n",
       "</table>\n",
       "</div>"
      ],
      "text/plain": [
       "       update rate no outliers\n",
       "count             28315.000000\n",
       "mean               1100.835811\n",
       "std                2530.099903\n",
       "min                  74.000000\n",
       "25%                 974.000000\n",
       "50%                1000.000000\n",
       "75%                1035.000000\n",
       "max              112392.000000"
      ]
     },
     "execution_count": 28,
     "metadata": {},
     "output_type": "execute_result"
    },
    {
     "data": {
      "image/png": "[encoded data removed]",
      "text/plain": [
       "<Figure size 432x288 with 1 Axes>"
      ]
     },
     "metadata": {
      "needs_background": "light"
     },
     "output_type": "display_data"
    }
   ],
   "source": [
    "# this is the part where I remove outliers\n",
    "\n",
    "sd = statistics.stdev(ts_diffs)\n",
    "avg = statistics.mean(ts_diffs)\n",
    "\n",
    "filtered = list(); outliers = list()\n",
    "\n",
    "for tsd in ts_diffs:\n",
    "    if (tsd > avg + 3*sd) or (tsd < avg - 3*sd):\n",
    "        outliers.append(tsd)\n",
    "    else:\n",
    "        filtered.append(tsd)\n",
    "        \n",
    "#print(outliers)\n",
    "#print(filtered)\n",
    "result_df_noOutliers = pd.DataFrame(filtered,columns=['update rate no outliers'])\n",
    "result_df_noOutliers.plot()\n",
    "result_df_noOutliers.describe()\n"
   ]
  },
  {
   "cell_type": "code",
   "execution_count": 7,
   "metadata": {},
   "outputs": [],
   "source": [
    "with open('test.tex','w') as fh:\n",
    "    fh.write(result_df_noOutliers.describe().to_latex())\n"
   ]
  },
  {
   "cell_type": "code",
   "execution_count": null,
   "metadata": {},
   "outputs": [],
   "source": []
  }
 ],
 "metadata": {
  "kernelspec": {
   "display_name": "Python 3",
   "language": "python",
   "name": "python3"
  },
  "language_info": {
   "codemirror_mode": {
    "name": "ipython",
    "version": 3
   },
   "file_extension": ".py",
   "mimetype": "text/x-python",
   "name": "python",
   "nbconvert_exporter": "python",
   "pygments_lexer": "ipython3",
   "version": "3.8.5"
  }
 },
 "nbformat": 4,
 "nbformat_minor": 4
}
