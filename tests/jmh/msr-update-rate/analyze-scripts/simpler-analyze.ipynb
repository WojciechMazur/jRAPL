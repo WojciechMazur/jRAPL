{
 "cells": [
  {
   "cell_type": "code",
   "execution_count": 8,
   "metadata": {},
   "outputs": [],
   "source": [
    "import pandas as pd\n",
    "import statistics\n",
    "from sys import argv\n",
    "import matplotlib.pyplot as plt\n",
    "import numpy as np\n",
    "import json"
   ]
  },
  {
   "cell_type": "code",
   "execution_count": 9,
   "metadata": {},
   "outputs": [],
   "source": [
    "### Get durations in between consecutive timestamps rather than the \n",
    "def diff_list(l):\n",
    "    dl = []\n",
    "    prev = l[0]\n",
    "    for item in l[1:]:\n",
    "        dl.append(item-prev)\n",
    "        prev = item\n",
    "    return dl"
   ]
  },
  {
   "cell_type": "code",
   "execution_count": 10,
   "metadata": {},
   "outputs": [],
   "source": [
    "def cumulative_sum(l):\n",
    "    sl = []\n",
    "    sum_ = 0\n",
    "    for duration in l:\n",
    "        sum_ += duration\n",
    "        sl.append(sum_)\n",
    "    return sl"
   ]
  },
  {
   "cell_type": "code",
   "execution_count": 11,
   "metadata": {},
   "outputs": [],
   "source": [
    "def filter_for_outliers(unfiltered, **kwargs):\n",
    "    allowed_kws = {\"lt\", \"gt\", \"ge\", \"le\", \"eq\"}\n",
    "    kws_provided = set(kwargs.keys())\n",
    "    diff = kws_provided - allowed_kws\n",
    "    if diff:\n",
    "        raise ValueError(f\"Invalid keyword(s) provided: {diff}\")\n",
    "    filtered = []\n",
    "    outliers = []\n",
    "    for val in unfiltered:\n",
    "        append_val = True\n",
    "        if \"lt\" in kws_provided:\n",
    "            append_val &= (val < kwargs[\"lt\"])\n",
    "        if \"gt\" in kws_provided:\n",
    "            append_val &= (val > kwargs[\"gt\"])\n",
    "        if \"ge\" in kws_provided:\n",
    "            append_val &= (val >= kwargs[\"ge\"])\n",
    "        if \"le\" in kws_provided:\n",
    "            append_val &= (val <= kwargs[\"le\"])\n",
    "        if \"eq\" in kws_provided:\n",
    "            append_val &= (val == kwargs[\"eq\"])\n",
    "        if append_val: filtered.append(val)\n",
    "        else: outliers.append(val)\n",
    "    return filtered, outliers"
   ]
  },
  {
   "cell_type": "code",
   "execution_count": 37,
   "metadata": {},
   "outputs": [
    {
     "name": "stdout",
     "output_type": "stream",
     "text": [
      "read the csv\n",
      "['dram_socket1', 'gpu_socket1', 'core_socket1', 'pkg_socket1']\n",
      "7780873 total samples\n"
     ]
    }
   ],
   "source": [
    "hostname='192.168.4.29'\n",
    "df = pd.read_csv('/home/alejandro/Documents/Projects/jRAPL/tests/jmh/msr-update-rate/results/samples-collected_'+hostname+'.csv')\n",
    "df = df.loc[:, (df != 0).any(axis=0)]\n",
    "print('read the csv')\n",
    "header = list(df.head())\n",
    "del header[-1] # remove timestamp\n",
    "timestamps = df['timestamp']\n",
    "print(header)\n",
    "print(len(df),'total samples')"
   ]
  },
  {
   "cell_type": "code",
   "execution_count": 67,
   "metadata": {},
   "outputs": [
    {
     "name": "stdout",
     "output_type": "stream",
     "text": [
      "collected result dataframe for dram_socket1; len(outliers)=42877,len(result)=16332\n",
      "collected result dataframe for gpu_socket1; len(outliers)=930,len(result)=6508\n",
      "collected result dataframe for core_socket1; len(outliers)=66,len(result)=702211\n",
      "collected result dataframe for pkg_socket1; len(outliers)=66,len(result)=149254\n",
      "all results stored in 'result_dfs', currently a dictionary\n"
     ]
    }
   ],
   "source": [
    "result_dfs = dict()\n",
    "\n",
    "cutoff = 2000\n",
    "\n",
    "for powerDomain in header:\n",
    "    energies = df[powerDomain]\n",
    "    lastDifferent = energies[0]\n",
    "    change_ts = [ timestamps[0] ] # timestamps where there was an energy update\n",
    "    ener_diffs = [] # differences between consecutive non-equal readings\n",
    "    bw = 0\n",
    "    for i in range(len(energies)):\n",
    "        if energies[i] != lastDifferent:\n",
    "            ener_diffs.append(energies[i] - lastDifferent)\n",
    "            change_ts.append(timestamps[i])\n",
    "            lastDifferent = energies[i]\n",
    "            bw = 0\n",
    "        else:\n",
    "            bw += 1\n",
    "    # Get the difference between consecutive timestamps\n",
    "    ts_diffs = diff_list(change_ts)\n",
    "    \n",
    "    # Get the cumulative sum of the unfiltered duractions\n",
    "    # Get the filtered durations <=3000 and outliers >3000\n",
    "    filtered, outliers = filter_for_outliers(ts_diffs, le=cutoff)\n",
    "    \n",
    "    result = filtered\n",
    "    \n",
    "    result_dfs[powerDomain] = {\n",
    "                               \"change_timestamps\": np.array(change_ts),\n",
    "                               #\"reading_change_num\": np.array(non_zero_reading_nums),\n",
    "                               \"energy_differences\": np.array(ener_diffs),\n",
    "                               \"filtered\": np.array(filtered, dtype=np.double),\n",
    "                               \"outliers\": np.array(outliers)\n",
    "                              }  \n",
    "    \n",
    "    print(f'collected result dataframe for {powerDomain}; len(outliers)={len(outliers)},len(result)={len(result)}')\n",
    "    \n",
    "print('all results stored in \\'result_dfs\\', currently a dictionary')"
   ]
  },
  {
   "cell_type": "code",
   "execution_count": 68,
   "metadata": {},
   "outputs": [
    {
     "data": {
      "text/plain": [
       "dict_keys(['dram_socket1', 'gpu_socket1', 'core_socket1', 'pkg_socket1'])"
      ]
     },
     "execution_count": 68,
     "metadata": {},
     "output_type": "execute_result"
    }
   ],
   "source": [
    "result_dfs.keys()"
   ]
  },
  {
   "cell_type": "code",
   "execution_count": 69,
   "metadata": {},
   "outputs": [
    {
     "data": {
      "image/png": "[encoded data removed]",
      "text/plain": [
       "<Figure size 1080x360 with 4 Axes>"
      ]
     },
     "metadata": {
      "needs_background": "light"
     },
     "output_type": "display_data"
    }
   ],
   "source": [
    "# we're just picking it out of socket1 for what to display in the research paper\n",
    "s = 1\n",
    "dram = result_dfs['dram_socket'+str(s)]\n",
    "pkg = result_dfs['pkg_socket'+str(s)]\n",
    "core = result_dfs['core_socket'+str(s)]\n",
    "gpu = result_dfs['gpu_socket'+str(s)]\n",
    "\n",
    "\n",
    "fig, axs = plt.subplots(1,4,figsize=(15,5))\n",
    "\n",
    "axs[0].scatter(range(len(dram['filtered'])),dram['filtered'])\n",
    "axs[0].set_title('dram')\n",
    "axs[0].set_ylabel('update time (usec)')\n",
    "\n",
    "\n",
    "axs[1].scatter(range(len(pkg['filtered'])),pkg['filtered'])\n",
    "axs[1].set_title('pkg')\n",
    "\n",
    "axs[2].scatter(range(len(gpu['filtered'])),gpu['filtered'])\n",
    "axs[2].set_title('gpu')\n",
    "\n",
    "axs[3].scatter(range(len(core['filtered'])),core['filtered'])\n",
    "axs[3].set_title('core')\n",
    "\n",
    "fig.suptitle('Energy Update Time')\n",
    "fig.align_ylabels(axs)\n",
    "\n",
    "plt.show()\n",
    "#fig.savefig('energy-update-time-simple_systemB')"
   ]
  },
  {
   "cell_type": "code",
   "execution_count": 35,
   "metadata": {},
   "outputs": [
    {
     "name": "stdout",
     "output_type": "stream",
     "text": [
      "0.021643411272159133% excluded\n",
      "295766 total collected\n"
     ]
    }
   ],
   "source": [
    "# percent that were outliers (above 3000 ms)\n",
    "nfiltered = len(result_dfs['dram_socket1']['filtered']) + len(result_dfs['pkg_socket1']['filtered'])\n",
    "nexcluded = len(result_dfs['dram_socket1']['outliers']) + len(result_dfs['pkg_socket1']['outliers'])\n",
    "print(str(nexcluded/nfiltered * 100) + \"% excluded\")"
   ]
  },
  {
   "cell_type": "code",
   "execution_count": 23,
   "metadata": {},
   "outputs": [
    {
     "name": "stdout",
     "output_type": "stream",
     "text": [
      "Mean and stdev:\n",
      "{\n",
      "  \"dram_mean\": 1011.9549852955128,\n",
      "  \"dram_stdev\": 1011.9549852955128,\n",
      "  \"pkg_mean\": 1007.83457043375,\n",
      "  \"pkg_stdev\": 84.0930127550168,\n",
      "  \"both_mean\": 1009.8904452784258,\n",
      "  \"both_stdev\": 96.08294846223097\n",
      "}\n"
     ]
    }
   ],
   "source": [
    "dram_mean = statistics.mean(dram['filtered'])\n",
    "dram_stdev = statistics.mean(dram['filtered'])\n",
    "\n",
    "pkg_mean = statistics.mean(pkg['filtered'])\n",
    "pkg_stdev = statistics.stdev(pkg['filtered'])\n",
    "\n",
    "both = list(dram['filtered'])\n",
    "both.extend(list(pkg['filtered']))\n",
    "both_mean = statistics.mean(both)\n",
    "both_stdev = statistics.stdev(both)\n",
    "\n",
    "print(\"Mean and stdev:\")\n",
    "print(json.dumps({ 'dram_mean':dram_mean, 'dram_stdev':dram_stdev, 'pkg_mean':pkg_mean, 'pkg_stdev':pkg_stdev,\n",
    "'both_mean':both_mean, 'both_stdev':both_stdev},indent=2))"
   ]
  },
  {
   "cell_type": "code",
   "execution_count": 18,
   "metadata": {},
   "outputs": [],
   "source": [
    "#for key in result_dfs.keys():\n",
    "#    try:\n",
    "#        plot = results_dfs[key]['filtered'].plot()\n",
    "#        plot.set_title(f'time to update the MSR for {key.upper()}')\n",
    "#        plot.get_figure().savefig(f'{key}_msr-update-time.png')\n",
    "#        # plot.get_figure().clf()\n",
    "#        with open(key+'_summary-statistics.tex','w') as fh: fh.write(results_dfs[key].describe().to_latex())\n",
    "#    except:\n",
    "#        print(f\"error plotting results_dfs[{key}]\")"
   ]
  },
  {
   "cell_type": "code",
   "execution_count": null,
   "metadata": {},
   "outputs": [],
   "source": []
  }
 ],
 "metadata": {
  "interpreter": {
   "hash": "31f2aee4e71d21fbe5cf8b01ff0e069b9275f58929596ceb00d14d90e3e16cd6"
  },
  "kernelspec": {
   "display_name": "Python 3.8.5 64-bit",
   "name": "python3"
  },
  "language_info": {
   "codemirror_mode": {
    "name": "ipython",
    "version": 3
   },
   "file_extension": ".py",
   "mimetype": "text/x-python",
   "name": "python",
   "nbconvert_exporter": "python",
   "pygments_lexer": "ipython3",
   "version": "3.8.5"
  }
 },
 "nbformat": 4,
 "nbformat_minor": 4
}