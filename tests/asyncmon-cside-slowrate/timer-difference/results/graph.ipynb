{
 "cells": [
  {
   "cell_type": "code",
   "execution_count": 38,
   "metadata": {},
   "outputs": [],
   "source": [
    "import os\n",
    "import json\n",
    "import statistics\n",
    "import matplotlib.pyplot as plt"
   ]
  },
  {
   "cell_type": "code",
   "execution_count": 39,
   "metadata": {},
   "outputs": [
    {
     "data": {
      "text/plain": [
       "['result-0.json', 'result-1.json']"
      ]
     },
     "execution_count": 39,
     "metadata": {},
     "output_type": "execute_result"
    }
   ],
   "source": [
    "filenames = [ f for f in os.listdir() if f.split('.')[-1] == 'json' ]\n",
    "filenames"
   ]
  },
  {
   "cell_type": "code",
   "execution_count": 44,
   "metadata": {},
   "outputs": [],
   "source": [
    "statparse = {}\n",
    "for fname in filenames:\n",
    "    with open(fname) as f: data = json.loads(f.read())\n",
    "    duration = int(fname.split('.')[0].split('-')[-1])\n",
    "    statparse[duration] = {}\n",
    "    for kind in data.keys():\n",
    "        dat = data[kind]\n",
    "        statparse[duration][kind] = {}\n",
    "        statparse[duration][kind]['avg'] = statistics.mean(dat)\n",
    "        statparse[duration][kind]['std'] = statistics.stdev(dat)\n",
    "        statparse[duration][kind]['raw'] = data[kind]"
   ]
  },
  {
   "cell_type": "code",
   "execution_count": 60,
   "metadata": {},
   "outputs": [
    {
     "data": {
      "image/png": "[encoded data removed]",
      "text/plain": [
       "<Figure size 432x288 with 1 Axes>"
      ]
     },
     "metadata": {
      "needs_background": "light"
     },
     "output_type": "display_data"
    }
   ],
   "source": [
    "fig,axs = plt.subplots()\n",
    "\n",
    "for duration in statparse:\n",
    "    barplot_index = 0\n",
    "    for kind in statparse[duration]:\n",
    "        d = statparse[duration][kind]\n",
    "        p = ax.bar(barplot_index, d['avg'], yerr=d['std'])\n",
    "        barplot_index += 1\n",
    "        ax.set_title(\"timer comparison for \"+str(duration)+\" msec\")\n",
    "        \n",
    "        "
   ]
  },
  {
   "cell_type": "code",
   "execution_count": 57,
   "metadata": {},
   "outputs": [
    {
     "data": {
      "text/plain": [
       "[0.4061, 1088.0077]"
      ]
     },
     "execution_count": 57,
     "metadata": {},
     "output_type": "execute_result"
    },
    {
     "data": {
      "image/png": "[encoded data removed]",
      "text/plain": [
       "<Figure size 432x288 with 1 Axes>"
      ]
     },
     "metadata": {
      "needs_background": "light"
     },
     "output_type": "display_data"
    }
   ],
   "source": [
    "avgs = [ statparse[i]['java']['avg'] for i in (0,1) ]\n",
    "stds = [ statparse[i]['java']['std'] for i in (0,1) ]\n",
    "fix, ax = plt.subplots()\n",
    "p1 = ax.bar(0,avgs[0],yerr=stds[0])\n",
    "p2 = ax.bar(1,avgs[1]/1000,yerr=stds[1]/1000)\n",
    "avgs"
   ]
  },
  {
   "cell_type": "code",
   "execution_count": null,
   "metadata": {},
   "outputs": [],
   "source": []
  }
 ],
 "metadata": {
  "kernelspec": {
   "display_name": "Python 3",
   "language": "python",
   "name": "python3"
  },
  "language_info": {
   "codemirror_mode": {
    "name": "ipython",
    "version": 3
   },
   "file_extension": ".py",
   "mimetype": "text/x-python",
   "name": "python",
   "nbconvert_exporter": "python",
   "pygments_lexer": "ipython3",
   "version": "3.8.5"
  }
 },
 "nbformat": 4,
 "nbformat_minor": 4
}
