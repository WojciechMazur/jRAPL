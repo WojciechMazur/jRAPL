{
 "cells": [
  {
   "cell_type": "code",
   "execution_count": 38,
   "metadata": {},
   "outputs": [],
   "source": [
    "import os\n",
    "import json\n",
    "import statistics\n",
    "import matplotlib.pyplot as plt"
   ]
  },
  {
   "cell_type": "code",
   "execution_count": 39,
   "metadata": {},
   "outputs": [
    {
     "data": {
      "text/plain": [
       "['result-0.json', 'result-1.json']"
      ]
     },
     "execution_count": 39,
     "metadata": {},
     "output_type": "execute_result"
    }
   ],
   "source": [
    "filenames = [ f for f in os.listdir() if f.split('.')[-1] == 'json' ]\n",
    "filenames"
   ]
  },
  {
   "cell_type": "code",
   "execution_count": 44,
   "metadata": {},
   "outputs": [],
   "source": [
    "statparse = {}\n",
    "for fname in filenames:\n",
    "    with open(fname) as f: data = json.loads(f.read())\n",
    "    duration = int(fname.split('.')[0].split('-')[-1])\n",
    "    statparse[duration] = {}\n",
    "    for kind in data.keys():\n",
    "        dat = data[kind]\n",
    "        statparse[duration][kind] = {}\n",
    "        statparse[duration][kind]['avg'] = statistics.mean(dat)\n",
    "        statparse[duration][kind]['std'] = statistics.stdev(dat)\n",
    "        statparse[duration][kind]['raw'] = data[kind]"
   ]
  },
  {
   "cell_type": "code",
   "execution_count": 85,
   "metadata": {},
   "outputs": [
    {
     "data": {
      "image/png": "[encoded data removed]",
      "text/plain": [
       "<Figure size 432x288 with 1 Axes>"
      ]
     },
     "metadata": {
      "needs_background": "light"
     },
     "output_type": "display_data"
    },
    {
     "data": {
      "text/plain": [
       "<Figure size 432x288 with 0 Axes>"
      ]
     },
     "metadata": {},
     "output_type": "display_data"
    },
    {
     "data": {
      "image/png": "[encoded data removed]",
      "text/plain": [
       "<Figure size 432x288 with 1 Axes>"
      ]
     },
     "metadata": {
      "needs_background": "light"
     },
     "output_type": "display_data"
    },
    {
     "data": {
      "text/plain": [
       "<Figure size 432x288 with 0 Axes>"
      ]
     },
     "metadata": {},
     "output_type": "display_data"
    }
   ],
   "source": [
    "\n",
    "for duration in statparse:\n",
    "    fig, ax = plt.subplots()\n",
    "    \n",
    "    j = statparse[duration]['java']\n",
    "    c = statparse[duration]['c']\n",
    "    \n",
    "    kinds = ['java','c']\n",
    "    CTEs = [j['avg'], c['avg']]\n",
    "    error = [j['std'],c['std']]\n",
    "    xpos = [x for x in range(len(kinds))]\n",
    "    \n",
    "    ax.bar(xpos, CTEs, yerr=error)\n",
    "    ax.set_xticks(xpos)\n",
    "    ax.set_xticklabels(['java','c'])\n",
    "    ax.set_title(\"timer comparison for \"+str(duration)+\" msec\")\n",
    "    plt.savefig('time-comapre-'+str(duration))\n",
    "    plt.show()\n",
    "    plt.clf()\n",
    "        \n",
    "        "
   ]
  },
  {
   "cell_type": "code",
   "execution_count": null,
   "metadata": {},
   "outputs": [],
   "source": []
  }
 ],
 "metadata": {
  "kernelspec": {
   "display_name": "Python 3",
   "language": "python",
   "name": "python3"
  },
  "language_info": {
   "codemirror_mode": {
    "name": "ipython",
    "version": 3
   },
   "file_extension": ".py",
   "mimetype": "text/x-python",
   "name": "python",
   "nbconvert_exporter": "python",
   "pygments_lexer": "ipython3",
   "version": "3.8.5"
  }
 },
 "nbformat": 4,
 "nbformat_minor": 4
}
