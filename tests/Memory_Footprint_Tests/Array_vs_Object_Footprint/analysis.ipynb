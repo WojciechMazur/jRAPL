{
 "cells": [
  {
   "cell_type": "code",
   "execution_count": 1,
   "metadata": {},
   "outputs": [],
   "source": [
    "from os import listdir\n",
    "import re\n",
    "import statistics\n",
    "import matplotlib.pyplot as plt\n",
    "import pandas as pd"
   ]
  },
  {
   "cell_type": "code",
   "execution_count": 2,
   "metadata": {},
   "outputs": [],
   "source": [
    "def parse_memsamples(filename):\n",
    "    fh = open(filename)\n",
    "    data = fh.readlines()\n",
    "    fh.close()\n",
    "    newdata = [d for d in data if not d[0].isalpha()]\n",
    "    newdata = [d.strip() for d in newdata]\n",
    "    newdata = ''.join(newdata)\n",
    "    newdata = newdata.split(',')\n",
    "    newdata = [int(d) for d in newdata]\n",
    "    return newdata\n",
    "\n",
    "def parse_avg(filename):\n",
    "    fh = open(filename)\n",
    "    data = fh.readlines()\n",
    "    fh.close()\n",
    "    for i in range(len(data)-1,-1,-1):\n",
    "        if 'avg' in data[i]: return data[i].strip()\n",
    "    return None\n",
    "\n",
    "\n",
    "def parse_stdev(filename):\n",
    "    fh = open(filename)\n",
    "    data = fh.readlines()\n",
    "    fh.close()\n",
    "    for i in range(len(data)-1,-1,-1):\n",
    "        if 'stdev' in data[i]: return data[i].strip()\n",
    "    return None\n",
    "\n",
    "def parse_lifetime(filename):\n",
    "    fh = open(filename)\n",
    "    data = fh.read()\n",
    "    fh.close()\n",
    "    for d in data[len(data)-1:0:-1]:\n",
    "        if 'lifetime' in d: return d.strip()\n",
    "    return None\n",
    "\n",
    "def get_all_lifetimes(filenames):\n",
    "        return [ re.sub('lifetime: ','',parse_liefetime(f)) for f in filenames ]\n",
    "\n",
    "def plotit(data, label):\n",
    "    y = data\n",
    "    x = range(1,len(data)+1)\n",
    "    plt.plot(x,y,label=label)\n",
    "\n",
    "def average_list(data_files):\n",
    "    alldata     = [ parse_memsamples(df) for df in data_files ]\n",
    "    length      = min([len(data) for data in alldata])\n",
    "    alldata     = [ data[:length] for data in alldata ]\n",
    "    average = [ statistics.mean([data[i] for data in alldata]) for i in range(length) ]\n",
    "    return average\n"
   ]
  },
  {
   "cell_type": "code",
   "execution_count": 3,
   "metadata": {},
   "outputs": [],
   "source": [
    "data_folder = './data1'\n",
    "data_files = [ data_folder+'/'+file for file in listdir(data_folder)]\n",
    "data_files_array = [ df for df in data_files if 'Array' in df ]\n",
    "data_files_object = [ df for df in data_files if 'Object' in df]"
   ]
  },
  {
   "cell_type": "code",
   "execution_count": 4,
   "metadata": {},
   "outputs": [
    {
     "name": "stdout",
     "output_type": "stream",
     "text": [
      "4376304.3377967235\n"
     ]
    }
   ],
   "source": [
    "averages = [ parse_avg(df) for df in data_files_array ]\n",
    "averages = [ re.sub('[a-zA-Z: ]','',a) for a in averages ]\n",
    "averages = [ float(a) for a in averages ]\n",
    "array_total_average = statistics.mean(averages)\n",
    "print(array_total_average)"
   ]
  },
  {
   "cell_type": "code",
   "execution_count": 5,
   "metadata": {},
   "outputs": [
    {
     "name": "stdout",
     "output_type": "stream",
     "text": [
      "4534139.722509421\n"
     ]
    }
   ],
   "source": [
    "averages = [ parse_avg(df) for df in data_files_object ]\n",
    "averages = [ re.sub('[a-zA-Z: ]','',a) for a in averages ]\n",
    "averages = [ float(a) for a in averages ]\n",
    "object_total_average = statistics.mean(averages)\n",
    "print(object_total_average)"
   ]
  },
  {
   "cell_type": "code",
   "execution_count": 6,
   "metadata": {},
   "outputs": [],
   "source": [
    "array_avglist = average_list(data_files_array)\n",
    "object_avglist = average_list(data_files_object)"
   ]
  },
  {
   "cell_type": "code",
   "execution_count": 12,
   "metadata": {},
   "outputs": [
    {
     "data": {
      "image/png": "[encoded data removed]",
      "text/plain": [
       "<Figure size 432x288 with 1 Axes>"
      ]
     },
     "metadata": {
      "needs_background": "light"
     },
     "output_type": "display_data"
    }
   ],
   "source": [
    "plotit(object_avglist,'Object')\n",
    "plotit(array_avglist,'Array')\n",
    "plt.xlabel('memory sample')\n",
    "plt.ylabel('megabytes')\n",
    "plt.title('average memory consumption')\n",
    "plt.legend(loc='upper left')\n",
    "plt.show()"
   ]
  },
  {
   "cell_type": "code",
   "execution_count": 8,
   "metadata": {},
   "outputs": [],
   "source": [
    "## this cell gets out the average lifetimes\n"
   ]
  },
  {
   "cell_type": "code",
   "execution_count": 9,
   "metadata": {},
   "outputs": [
    {
     "name": "stdout",
     "output_type": "stream",
     "text": [
      "arr: 6329681.273631841 bytes total\n",
      "obj: 6634936.358208955 bytes total\n",
      "diff: 305255.0845771143 bytes\n",
      "1939 1937\n"
     ]
    }
   ],
   "source": [
    "array_lastread = array_avglist[-1]\n",
    "object_lastread = object_avglist[-1]\n",
    "print(\"arr:\",array_lastread,\"bytes total\")\n",
    "print(\"obj:\",object_lastread,\"bytes total\")\n",
    "print(\"diff:\",object_lastread - array_lastread,\"bytes\")\n",
    "print(len(array_avglist),len(object_avglist))"
   ]
  },
  {
   "cell_type": "code",
   "execution_count": 10,
   "metadata": {},
   "outputs": [
    {
     "data": {
      "text/html": [
       "<div>\n",
       "<style scoped>\n",
       "    .dataframe tbody tr th:only-of-type {\n",
       "        vertical-align: middle;\n",
       "    }\n",
       "\n",
       "    .dataframe tbody tr th {\n",
       "        vertical-align: top;\n",
       "    }\n",
       "\n",
       "    .dataframe thead th {\n",
       "        text-align: right;\n",
       "    }\n",
       "</style>\n",
       "<table border=\"1\" class=\"dataframe\">\n",
       "  <thead>\n",
       "    <tr style=\"text-align: right;\">\n",
       "      <th></th>\n",
       "      <th>0</th>\n",
       "    </tr>\n",
       "  </thead>\n",
       "  <tbody>\n",
       "    <tr>\n",
       "      <th>array total average</th>\n",
       "      <td>4.376304e+06</td>\n",
       "    </tr>\n",
       "    <tr>\n",
       "      <th>object total average</th>\n",
       "      <td>4.534140e+06</td>\n",
       "    </tr>\n",
       "    <tr>\n",
       "      <th>array final value</th>\n",
       "      <td>6.329681e+06</td>\n",
       "    </tr>\n",
       "    <tr>\n",
       "      <th>object final value</th>\n",
       "      <td>6.634936e+06</td>\n",
       "    </tr>\n",
       "    <tr>\n",
       "      <th>object greater by</th>\n",
       "      <td>3.052551e+05</td>\n",
       "    </tr>\n",
       "  </tbody>\n",
       "</table>\n",
       "</div>"
      ],
      "text/plain": [
       "                                 0\n",
       "array total average   4.376304e+06\n",
       "object total average  4.534140e+06\n",
       "array final value     6.329681e+06\n",
       "object final value    6.634936e+06\n",
       "object greater by     3.052551e+05"
      ]
     },
     "execution_count": 10,
     "metadata": {},
     "output_type": "execute_result"
    }
   ],
   "source": [
    "d = {\n",
    "    'array total average': array_total_average,\n",
    "    'object total average': object_total_average,\n",
    "    'array final value': array_lastread,\n",
    "    'object final value': object_lastread,\n",
    "    'object greater by': object_lastread-array_lastread,\n",
    "}\n",
    "pd.DataFrame(d.values(),d.keys())"
   ]
  },
  {
   "cell_type": "code",
   "execution_count": null,
   "metadata": {},
   "outputs": [],
   "source": []
  }
 ],
 "metadata": {
  "kernelspec": {
   "display_name": "Python 3",
   "language": "python",
   "name": "python3"
  },
  "language_info": {
   "codemirror_mode": {
    "name": "ipython",
    "version": 3
   },
   "file_extension": ".py",
   "mimetype": "text/x-python",
   "name": "python",
   "nbconvert_exporter": "python",
   "pygments_lexer": "ipython3",
   "version": "3.8.5"
  }
 },
 "nbformat": 4,
 "nbformat_minor": 2
}
